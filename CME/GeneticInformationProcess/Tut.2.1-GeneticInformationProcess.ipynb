{
 "cells": [
  {
   "cell_type": "markdown",
   "metadata": {},
   "source": [
    "# Tutorial 1.2 - Stochastic Genetic Information Process\n",
    "\n",
    "Here we examine a CME model of stochastic Genetic Information Process.\n",
    "\n",
    "In this model, we include the transcription and translation of gene and mRNA together with degradation of both mRNA and protein.\n",
    "\n",
    "The model presented here can be found in the article: [Analytical distributions for stochastic gene expression](https://www.pnas.org/doi/full/10.1073/pnas.0803850105).\n"
   ]
  },
  {
   "cell_type": "code",
   "execution_count": null,
   "metadata": {},
   "outputs": [],
   "source": [
    "# Import Standard Python Libraries\n",
    "import os\n",
    "import numpy as np\n",
    "import matplotlib.pyplot as plt\n",
    "\n",
    "# Import pyLM Libraries\n",
    "from pyLM import *\n",
    "from pyLM.units import *\n",
    "from pySTDLM import *\n",
    "from pySTDLM.PostProcessing import *\n",
    "\n",
    "# Enable plotting inline in the Jupyter notebook\n",
    "%matplotlib inline"
   ]
  },
  {
   "cell_type": "markdown",
   "metadata": {},
   "source": [
    "## Constants\n",
    "\n",
    "Rates of reactions come from the [cell](https://www.cell.com/cell/fulltext/S0092-8674(21)01488-4?_returnURL=https%3A%2F%2Flinkinghub.elsevier.com%2Fretrieve%2Fpii%2FS0092867421014884%3Fshowall%3Dtrue) paper's Whole Cell Model of DnaA coding gene (G_0001) at initial conditions.\n",
    "\n",
    "Degradation rate of protein is calculated based on 25 hours' half life in [Maier et al, 2011](https://www.embopress.org/doi/full/10.1038/msb.2011.38)."
   ]
  },
  {
   "cell_type": "code",
   "execution_count": null,
   "metadata": {},
   "outputs": [],
   "source": [
    "# Constants\n",
    "k_transcription  = 6.41e-4       # Transcription, s^-1\n",
    "k_degra_mRNA = 2.59e-3     # degradation of mRNA, s^-1\n",
    "k_translation = 7.2e-2        # translation, s^-1\n",
    "k_degra_ptn = 7.70e-6      # degradation of protein, s^-1"
   ]
  },
  {
   "cell_type": "markdown",
   "metadata": {},
   "source": [
    "## Define CME simulation"
   ]
  },
  {
   "cell_type": "markdown",
   "metadata": {},
   "source": [
    "We begin by creating a [CMESimulation](https://luthey-schulten.chemistry.illinois.edu/software/LM2.4/_autosummary/pyLM.CME.html#module-pyLM.CME) \"object\" that we call ```sim```. This object will include the definition of the whole stochastic simulation."
   ]
  },
  {
   "cell_type": "code",
   "execution_count": null,
   "metadata": {},
   "outputs": [],
   "source": [
    "# Create our CME simulation object\n",
    "sim = CME.CMESimulation(name='Gene Expression')"
   ]
  },
  {
   "cell_type": "markdown",
   "metadata": {},
   "source": [
    "Next we define the chemical species with simulation. First. we specify the names of the chemical species.  Then we register these species with the simulation.  The [```defineSpecies()```](https://luthey-schulten.chemistry.illinois.edu/software/LM2.4/_autosummary/pyLM.CME.html#module-pyLM.CME) function can be called multiple times and will add any new names to the list of species."
   ]
  },
  {
   "cell_type": "code",
   "execution_count": null,
   "metadata": {},
   "outputs": [],
   "source": [
    "# Define our chemical species\n",
    "species = ['gene', 'mRNA', 'ptn']\n",
    "sim.defineSpecies(species)"
   ]
  },
  {
   "cell_type": "markdown",
   "metadata": {},
   "source": [
    "Here we add reactions to the simulation. We use the [```addReaction()```](https://luthey-schulten.chemistry.illinois.edu/software/LM2.4/_autosummary/pyLM.CME.html#module-pyLM.CME) function that is a member of the ```CMESimulation``` object. We add a bimolecular association reaction and a unimolecular dissociation reaction. When more than one reactant is involved, the list of reactant names should be passed as a tuple as can be seen in the reactant of the association reaction. The rates in this command must be in units of molecules and seconds, for instance units of ```/molecule/sec``` for the association reaction."
   ]
  },
  {
   "cell_type": "code",
   "execution_count": null,
   "metadata": {},
   "outputs": [],
   "source": [
    "# Add reactions to the simulation\n",
    "\n",
    "sim.addReaction(reactant='gene', product=('gene','mRNA'), rate=k_transcription)\n",
    "sim.addReaction(reactant='mRNA', product='', rate=k_degra_mRNA)\n",
    "sim.addReaction(reactant='mRNA', product=('mRNA','ptn'), rate=k_translation)\n",
    "sim.addReaction(reactant='ptn', product='', rate=k_degra_ptn)\n"
   ]
  },
  {
   "cell_type": "markdown",
   "metadata": {},
   "source": [
    "Next, we add the initial particle counts to the simulation using the [```addParticles()```](https://luthey-schulten.chemistry.illinois.edu/software/LM2.4/_autosummary/pyLM.CME.html#module-pyLM.CME) function."
   ]
  },
  {
   "cell_type": "code",
   "execution_count": null,
   "metadata": {},
   "outputs": [],
   "source": [
    "# Set our initial species counts\n",
    "\n",
    "sim.addParticles(species='gene', count=1)\n",
    "sim.addParticles(species='mRNA', count=1)\n",
    "sim.addParticles(species='ptn', count=0)"
   ]
  },
  {
   "cell_type": "markdown",
   "metadata": {},
   "source": [
    "Finally, we define the simulation execution parameters. We have the simulation run for 6300 seconds of real time to cover the entire cell cyle.\n",
    "\n",
    "The traces are recorded per 1 second.\n",
    "\n",
    "Then we name the simulation output file and save the simulation definition to it."
   ]
  },
  {
   "cell_type": "code",
   "execution_count": null,
   "metadata": {},
   "outputs": [],
   "source": [
    "# Simulation time is 6300 (entire cell life cycle of Minimal Cell).\n",
    "writeInterval = 1\n",
    "simtime = 6300\n",
    "\n",
    "sim.setWriteInterval(writeInterval)\n",
    "sim.setSimulationTime(simtime)\n",
    "\n",
    "filename = \"./T2.1-GeneticInformationProcess.lm\"\n",
    "\n",
    "os.system(\"rm -rf %s\"%(filename)) # Remove previous LM file \n",
    "\n",
    "sim.save(filename)"
   ]
  },
  {
   "cell_type": "code",
   "execution_count": null,
   "metadata": {
    "scrolled": true
   },
   "outputs": [],
   "source": [
    "# Print out the information of the system\n",
    "sim"
   ]
  },
  {
   "cell_type": "markdown",
   "metadata": {},
   "source": [
    "## Run Simulation"
   ]
  },
  {
   "cell_type": "code",
   "execution_count": null,
   "metadata": {
    "scrolled": true
   },
   "outputs": [],
   "source": [
    "# Run multiple replicates using the Gillespie solver\n",
    "reps = 100\n",
    "\n",
    "sim.run(filename=filename, method=\"lm::cme::GillespieDSolver\", replicates=reps)"
   ]
  },
  {
   "cell_type": "markdown",
   "metadata": {},
   "source": [
    "## Post-Processing"
   ]
  },
  {
   "cell_type": "markdown",
   "metadata": {},
   "source": [
    "Create Picture Folder"
   ]
  },
  {
   "cell_type": "code",
   "execution_count": null,
   "metadata": {},
   "outputs": [],
   "source": [
    "plotfolder = './plots_GeneticInformationProcess/'\n",
    "\n",
    "if not os.path.exists(plotfolder):\n",
    "    os.mkdir(plotfolder)\n"
   ]
  },
  {
   "cell_type": "markdown",
   "metadata": {},
   "source": [
    "Using function [```plotTraceFromFile```](https://luthey-schulten.chemistry.illinois.edu/software/LM2.4/_autosummary/pySTDLM.PostProcessing.html#pySTDLM.PostProcessing.plotTraceFromFile) to plot the trace of mRNA or protein in the specified simulation replicate."
   ]
  },
  {
   "cell_type": "code",
   "execution_count": null,
   "metadata": {},
   "outputs": [],
   "source": [
    "rep = 3\n",
    "\n",
    "picturepath = plotfolder + 'mRNA_replicate{0}.png'.format(rep)\n",
    "\n",
    "PostProcessing.plotTraceFromFile(filename, species=['mRNA'], replicate=rep, outfile=picturepath )\n",
    "\n",
    "picturepath = plotfolder + 'ptn_replicate{0}.png'.format(rep)\n",
    "\n",
    "PostProcessing.plotTraceFromFile(filename, species=['ptn'], replicate=rep, outfile=picturepath )"
   ]
  },
  {
   "cell_type": "markdown",
   "metadata": {},
   "source": [
    "Using [```plotAvgVarFromFile()```](https://luthey-schulten.chemistry.illinois.edu/software/LM2.4/_autosummary/pySTDLM.PostProcessing.html#module-pySTDLM.PostProcessing) built-in function in PostProcessing to plot the average and variance of all three species. "
   ]
  },
  {
   "cell_type": "code",
   "execution_count": null,
   "metadata": {},
   "outputs": [],
   "source": [
    "species = ['gene', 'mRNA', 'ptn']\n",
    "\n",
    "for i_specie, specie in enumerate(species):\n",
    "    \n",
    "    if specie != 'gene':\n",
    "        \n",
    "        picturepath = plotfolder + 'AvgVar_{0}_{1}replicates.png'.format(specie, reps)\n",
    "        \n",
    "        PostProcessing.plotAvgVarFromFile(filename=filename, species=[specie], outfile=picturepath)"
   ]
  },
  {
   "cell_type": "markdown",
   "metadata": {},
   "source": [
    "#### Using h5py module to serialize traces in LM file to a 3D Numpy Array with dimesions *(reps, species, time)*."
   ]
  },
  {
   "cell_type": "code",
   "execution_count": null,
   "metadata": {},
   "outputs": [],
   "source": [
    "import h5py\n",
    "\n",
    "fileHandle = PostProcessing.openLMFile(filename) # Create h5py file handle\n",
    "\n",
    "timestep = PostProcessing.getTimesteps(fileHandle) # use PostProcessing to get the timesteps of the simulation\n",
    "\n",
    "traces = np.zeros((reps,len(sim.particleMap),len(timestep)))\n",
    "\n",
    "def get_sim_data(filename):\n",
    "\n",
    "    f=h5py.File(filename, \"r\")\n",
    "\n",
    "    for r in range(reps):\n",
    "        \n",
    "        traces[r]=f['Simulations'][str(r+1).zfill(7)]['SpeciesCounts'][()].transpose()\n",
    "        \n",
    "    f.close()\n",
    "\n",
    "    return traces\n",
    "\n",
    "traces = get_sim_data(filename)\n",
    "\n",
    "print('The size of the 3D trajectories is {0} with dimensions replicates, species, and time.'.format(np.shape(traces)))"
   ]
  },
  {
   "cell_type": "markdown",
   "metadata": {},
   "source": [
    "#### Plot the distribution of Protein at the end of the simulation"
   ]
  },
  {
   "cell_type": "code",
   "execution_count": null,
   "metadata": {
    "scrolled": true
   },
   "outputs": [],
   "source": [
    "import plot_hist# User defined function to draw histogram\n",
    "\n",
    "# Protein Distribution\n",
    "\n",
    "ptns_end = traces[:,2,-1] # Slice Numpy array to get the counts of ptn at the end of the whole cell cycle\n",
    "\n",
    "fig_path = plotfolder + 'Distribution_Ptns_at_{0}_seconds_{1}replicates.png'.format(simtime, reps)\n",
    "\n",
    "xlabel = 'Counts of Protein [#]'\n",
    "\n",
    "title = 'Distribution of Ptn Counts at {0} seconds {1} replicates'.format(simtime, reps)\n",
    "    \n",
    "plot_hist.plot_histogram(data=ptns_end, figure_path=fig_path, bins=20, xlabel=xlabel, title=title)\n",
    "\n",
    "# mRNA Distribution\n",
    "###################################################################################\n",
    "mRNAs_end = traces[:,1,-1] # Slice Numpy array to get the counts of ptn at the end of the whole cell cycle\n",
    "\n",
    "fig_path = plotfolder + 'Distribution_mRNA_at_{0}_seconds_{1}replicates.png'.format(simtime, reps)\n",
    "\n",
    "xlabel = 'Counts of mRNA [#]'\n",
    "\n",
    "title = 'Distribution of mRNA Counts at {0} seconds {1} replicates'.format(simtime, reps)\n",
    "\n",
    "plot_hist.plot_histogram(data=mRNAs_end, figure_path=fig_path, bins=5, xlabel=xlabel, title=title)"
   ]
  },
  {
   "cell_type": "markdown",
   "metadata": {},
   "source": [
    "## Questions 2.1\n",
    "\n",
    "1. Do mRNA and protein reach steady-state during the 6300 seconds' simulation? How can you tell this from the plots?\n",
    "\n",
    "2. The initial count of protein P\\_0001/DnaA from experimental proteomics data is 148. Compare the mean count of protein at the end of the cell cycle to this experimental count. Does the simulation roughly generate 148 proteins during the entire cell cycle? And why this is important?\n",
    "\n",
    "3. \\(Challenge:\\) What should be the distribution of protein counts in different replicates? You can find an analytical solution in [Swain's paper](https://www.pnas.org/doi/full/10.1073/pnas.0803850105) in 2008. The distribution of steady state protein distribution is ploted in the following block. Why the two distributions are so different? Does protein count reach steady state during the simulation?"
   ]
  },
  {
   "cell_type": "markdown",
   "metadata": {},
   "source": [
    "### Negative binomial distribution of protein counts\n",
    "\n",
    "According to Swain's paper, the steady state distribution of protein count should be negative binomial distribution. The following code compares the simulation result with analytical one."
   ]
  },
  {
   "cell_type": "code",
   "execution_count": null,
   "metadata": {},
   "outputs": [],
   "source": [
    "a = k_transcription/k_degra_ptn # Number of mRNA in a protein's lifetime\n",
    "b = k_translation/k_degra_mRNA # b/(1+b) is the probability that one mRNA is translated rather than degradated\n",
    "\n",
    "print(\"Number of mRNA in a protein's lifetime is {0}\".format(a))\n",
    "print('THe probability that one mRNA is translated rather than degradated is {0}'.format(b/(1+b)))"
   ]
  },
  {
   "cell_type": "code",
   "execution_count": null,
   "metadata": {},
   "outputs": [],
   "source": [
    "import numpy as np\n",
    "from scipy.stats import nbinom\n",
    "import matplotlib.pyplot as plt\n",
    "\n",
    "# Enable plotting inline in the Jupyter notebook\n",
    "%matplotlib inline\n",
    "\n",
    "fig_size = [87,87/1.618]\n",
    "\n",
    "fig, ax = plt.subplots(1, 1)\n",
    "\n",
    "n, p = int(np.floor(a)), np.round(1/(1+b),2) \n",
    "\n",
    "x = np.arange(nbinom.ppf(0.01, n, p),\n",
    "              nbinom.ppf(0.99, n, p))\n",
    "\n",
    "plt.title(label = 'Analytical Distribution of Steay State Protein Count')\n",
    "\n",
    "ax.plot(x, nbinom.pmf(x, n, p),color='c', label='Negative Binomial Distribution')\n",
    "\n",
    "x_mean = np.sum(x*nbinom.pmf(x, n, p)) # Compute the mean by summing up the product of probability and x\n",
    "\n",
    "ax.vlines(x_mean, 0, np.max(nbinom.pmf(x,n,p)), linestyles='dashed',colors='b', lw=2, alpha=1, label='Mean: {0:.0f}'.format(x_mean))\n",
    "\n",
    "ax.legend(loc='upper left', fontsize='large',frameon=False)\n",
    "\n",
    "plt.savefig(plotfolder + 'Distribution_Steady_State_ptn.png')\n",
    "\n",
    "plt.show()"
   ]
  }
 ],
 "metadata": {
  "kernelspec": {
   "display_name": "Python 3 (ipykernel)",
   "language": "python",
   "name": "python3"
  },
  "language_info": {
   "codemirror_mode": {
    "name": "ipython",
    "version": 3
   },
   "file_extension": ".py",
   "mimetype": "text/x-python",
   "name": "python",
   "nbconvert_exporter": "python",
   "pygments_lexer": "ipython3",
   "version": "3.7.3"
  }
 },
 "nbformat": 4,
 "nbformat_minor": 2
}
